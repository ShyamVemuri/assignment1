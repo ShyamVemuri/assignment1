{
 "cells": [
  {
   "cell_type": "markdown",
   "id": "4efa7e33",
   "metadata": {},
   "source": [
    "# 1. In the below elements which of them are values or an expression? eg:- values can be integer or string and expressions will be mathematical operators."
   ]
  },
  {
   "cell_type": "markdown",
   "id": "801b7f32",
   "metadata": {},
   "source": [
    "     *       : expression\n",
    "    'hello' : value\n",
    "    -87.8   : value\n",
    "    -       : expression\n",
    "    /       : expression\n",
    "    +       : expression\n",
    "    6       : value"
   ]
  },
  {
   "cell_type": "markdown",
   "id": "a8d89835",
   "metadata": {},
   "source": [
    "# 2. What is the difference between string and variable?"
   ]
  },
  {
   "cell_type": "markdown",
   "id": "421a33a5",
   "metadata": {},
   "source": [
    "String is the collection of characters or information. It is represented by 'single quote', \"double quote\", \"\"\"triple quote\"\"\". \n",
    "Variable is something which can store data of various types. It is represented by assignment operator '='\n",
    "Eg:1. variable=\"String\"\n",
    "2. X=\"Python\". Here X is variable and \" Python\" is string"
   ]
  },
  {
   "cell_type": "markdown",
   "id": "720418ff",
   "metadata": {},
   "source": [
    "# 3. Describe three different data types"
   ]
  },
  {
   "cell_type": "markdown",
   "id": "6e36927f",
   "metadata": {},
   "source": [
    "1. int : It is used to represent whole numbers eg: 1,20,300\n",
    "2. Float : It is used to represent decimal numbers eg: 1.0, 2.2, 300.3\n",
    "3. Boolean: It is used to represnt logical operators eg: True, False"
   ]
  },
  {
   "cell_type": "markdown",
   "id": "58aa9ebf",
   "metadata": {},
   "source": [
    "# 4. What is an expression made up of? What do all expressions do?"
   ]
  },
  {
   "cell_type": "markdown",
   "id": "8a72b794",
   "metadata": {},
   "source": [
    "Expressions are made up of operators, variables and values, which eventually produce another value\n",
    "eg: X = 2 + 5 . Here X =2+5 is a expression which produces another value 7 upon executing"
   ]
  },
  {
   "cell_type": "markdown",
   "id": "9e3182bc",
   "metadata": {},
   "source": [
    "# 5. This assignment statements, like spam = 10. What is the difference between an expression and a statement?"
   ]
  },
  {
   "cell_type": "markdown",
   "id": "34f3f06c",
   "metadata": {},
   "source": [
    "Expressions are made up of operators, variables and values, which eventually produce another value.\n",
    "Statement doesnt produce a value. It is just used a to print the value"
   ]
  },
  {
   "cell_type": "markdown",
   "id": "7937d454",
   "metadata": {},
   "source": [
    "# 6.After running the following code, what does the variable bacon contain?"
   ]
  },
  {
   "cell_type": "code",
   "execution_count": 1,
   "id": "0830a94d",
   "metadata": {},
   "outputs": [
    {
     "data": {
      "text/plain": [
       "23"
      ]
     },
     "execution_count": 1,
     "metadata": {},
     "output_type": "execute_result"
    }
   ],
   "source": [
    "bacon = 22\n",
    "bacon + 1"
   ]
  },
  {
   "cell_type": "markdown",
   "id": "f35a2962",
   "metadata": {},
   "source": [
    "# 7. What should the values of the following two terms be?"
   ]
  },
  {
   "cell_type": "code",
   "execution_count": 5,
   "id": "4e34831d",
   "metadata": {},
   "outputs": [
    {
     "data": {
      "text/plain": [
       "'spamspamspam'"
      ]
     },
     "execution_count": 5,
     "metadata": {},
     "output_type": "execute_result"
    }
   ],
   "source": [
    "'spam' + 'spamspam'"
   ]
  },
  {
   "cell_type": "code",
   "execution_count": 6,
   "id": "37301d69",
   "metadata": {},
   "outputs": [
    {
     "data": {
      "text/plain": [
       "'spamspamspam'"
      ]
     },
     "execution_count": 6,
     "metadata": {},
     "output_type": "execute_result"
    }
   ],
   "source": [
    "'spam' * 3"
   ]
  },
  {
   "cell_type": "markdown",
   "id": "15b7e4bc",
   "metadata": {},
   "source": [
    "# 8. Why is eggs a valid variable name while 100 is invalid?"
   ]
  },
  {
   "cell_type": "markdown",
   "id": "c5c46811",
   "metadata": {},
   "source": [
    "Because Variable name should start with letter(a-z, A-Z) or underscore (_) but not with a number\n",
    "eg: eggs100 is valid but 100eggs is not valid."
   ]
  },
  {
   "cell_type": "markdown",
   "id": "bc486c73",
   "metadata": {},
   "source": [
    "# 9. What three functions can be used to get the integer, floating-point number, or string version of a value?"
   ]
  },
  {
   "cell_type": "markdown",
   "id": "f80f1a2a",
   "metadata": {},
   "source": [
    "int() function is used to get the integer version of a value\n",
    "eg: x='10' is string. int(x) returns 10 as a integer. \n",
    "However if x = 'ten', int(x) returns error.\n",
    "float() function is used to get the decimal number of a value\n",
    "eg: x='10.0' is string. float(x) returns 10.0 as a float\n",
    "str() function is used to get the string version of a value\n",
    "eg: x=10 is integer. str(x) returns '10' as a string"
   ]
  },
  {
   "cell_type": "markdown",
   "id": "e36f29be",
   "metadata": {},
   "source": [
    "# 10. Why does this expression cause an error? How can you fix it? 'I have eaten ' + 99 + ' burritos.'"
   ]
  },
  {
   "cell_type": "markdown",
   "id": "372f4c29",
   "metadata": {},
   "source": [
    "Addition operator cannot be used to add string and interger. Here ' I have eaten' is a string and 99 is a integer. This can be fixed by using 99 in single quotes or using str(99)"
   ]
  },
  {
   "cell_type": "code",
   "execution_count": 3,
   "id": "1656c6db",
   "metadata": {},
   "outputs": [
    {
     "data": {
      "text/plain": [
       "'I have eaten 99 burritos.'"
      ]
     },
     "execution_count": 3,
     "metadata": {},
     "output_type": "execute_result"
    }
   ],
   "source": [
    "'I have eaten ' + '99' + ' burritos.'"
   ]
  },
  {
   "cell_type": "code",
   "execution_count": 4,
   "id": "44c87df3",
   "metadata": {},
   "outputs": [
    {
     "data": {
      "text/plain": [
       "'I have eaten 99 burritos.'"
      ]
     },
     "execution_count": 4,
     "metadata": {},
     "output_type": "execute_result"
    }
   ],
   "source": [
    "'I have eaten ' + str(99) + ' burritos.'"
   ]
  },
  {
   "cell_type": "code",
   "execution_count": null,
   "id": "6da79039",
   "metadata": {},
   "outputs": [],
   "source": []
  }
 ],
 "metadata": {
  "kernelspec": {
   "display_name": "Python 3 (ipykernel)",
   "language": "python",
   "name": "python3"
  },
  "language_info": {
   "codemirror_mode": {
    "name": "ipython",
    "version": 3
   },
   "file_extension": ".py",
   "mimetype": "text/x-python",
   "name": "python",
   "nbconvert_exporter": "python",
   "pygments_lexer": "ipython3",
   "version": "3.9.7"
  }
 },
 "nbformat": 4,
 "nbformat_minor": 5
}
